{
 "cells": [
  {
   "metadata": {},
   "cell_type": "markdown",
   "source": [
    "# Maintenance Planning Optimization for Air System - By Luciano Contri\n",
    "\n",
    "\n",
    "## Introduction\n",
    "\n",
    "GitHub Repository: [Maintenance Planning Optimization for Air System](\n",
    "\n",
    "### Background\n",
    "\n",
    "The company maintains a fleet of trucks for nationwide delivery. Over the past three years, the maintenance costs for the air system of these trucks have significantly increased. This increase in expenses is a concern despite the fleet size remaining relatively constant.\n",
    "\n",
    "### Business Objective\n",
    "\n",
    "The primary objective of this analysis is to reduce the maintenance costs associated with the air system of the trucks. By leveraging AI techniques, we aim to:\n",
    "- Predict which trucks are likely to experience air system failures.\n",
    "- Identify the main factors that contribute to these failures.\n",
    "- Optimize the maintenance schedule to prevent costly corrective repairs.\n",
    "\n",
    "### Data Description\n",
    "\n",
    "We have been provided with two datasets:\n",
    "- `air_system_previous_years.csv`: Historical data containing maintenance records for the years before 2022.\n",
    "- `air_system_present_year.csv`: Data for the current year, which will be used for model evaluation.\n",
    "\n",
    "Both datasets contain anonymized columns with encoded values, and some missing data is expected.\n",
    "\n",
    "### Analytical Approach\n",
    "\n",
    "To address the business objective, we will follow the CRISP-DM methodology, which involves the following steps:\n",
    "1. **Business Understanding**: Define objectives and understand the problem.\n",
    "2. **Data Understanding**: Explore and visualize the data.\n",
    "3. **Data Preparation**: Clean and preprocess the data for analysis.\n",
    "4. **Modeling**: Train predictive models to identify potential failures.\n",
    "5. **Evaluation**: Assess the models' performance and their impact on cost savings.\n",
    "6. **Deployment**: Plan for model deployment and monitoring.\n",
    "\n",
    "This notebook will guide you through each of these steps, providing detailed insights and results at every stage. Let's begin by understanding the business requirements in more detail.\n"
   ],
   "id": "8a0840c0ec584e84"
  },
  {
   "metadata": {},
   "cell_type": "markdown",
   "source": [
    "# CRISP-DM Phases and Steps\n",
    "\n",
    "## 1. Business Understanding\n",
    "\n",
    "Objective: \n",
    "- Decrease maintenance costs for the air system of the trucks.\n",
    "\n",
    "Business Questions:\n",
    "- Can we reduce maintenance costs using AI techniques?\n",
    "- What are the main factors that indicate a possible failure in the air system?"
   ],
   "id": "3fffbe3225812697"
  },
  {
   "metadata": {},
   "cell_type": "markdown",
   "source": "## 2. Data Understanding",
   "id": "8716890d9fa09a81"
  },
  {
   "metadata": {},
   "cell_type": "markdown",
   "source": "### Importing Libraries and Loading Data:",
   "id": "1945d66c8103e970"
  },
  {
   "metadata": {
    "ExecuteTime": {
     "end_time": "2024-07-12T17:49:00.722280Z",
     "start_time": "2024-07-12T17:49:00.691220Z"
    }
   },
   "cell_type": "code",
   "source": [
    "# Import necessary libraries\n",
    "import pandas as pd\n",
    "import numpy as np\n",
    "import matplotlib.pyplot as plt\n",
    "import missingno as msno\n",
    "\n",
    "from sklearn.preprocessing import LabelEncoder\n",
    "from sklearn.preprocessing import StandardScaler\n",
    "from sklearn.decomposition import PCA\n",
    "from sklearn.feature_selection import RFE, SelectKBest, f_classif, VarianceThreshold\n",
    "from sklearn.model_selection import train_test_split, RandomizedSearchCV\n",
    "from sklearn.linear_model import LogisticRegression, Lasso\n",
    "from sklearn.ensemble import RandomForestClassifier, GradientBoostingClassifier\n",
    "from sklearn.metrics import classification_report, recall_score, make_scorer, f1_score"
   ],
   "id": "2101cfa210427997",
   "outputs": [],
   "execution_count": 49
  },
  {
   "metadata": {
    "ExecuteTime": {
     "end_time": "2024-07-12T17:49:03.634436Z",
     "start_time": "2024-07-12T17:49:00.970808Z"
    }
   },
   "cell_type": "code",
   "source": [
    "air_system_present_year = pd.read_csv('air_system_present_year.csv', sep = ',')\n",
    "air_system_previous_years = pd.read_csv('air_system_previous_years.csv', sep = ',')"
   ],
   "id": "696e87d4492f74e4",
   "outputs": [],
   "execution_count": 50
  },
  {
   "metadata": {},
   "cell_type": "markdown",
   "source": [
    "### Data Description:\n",
    "- Explore the structure, types, and summary statistics of the data."
   ],
   "id": "411e5925d56d2a7d"
  },
  {
   "metadata": {
    "ExecuteTime": {
     "end_time": "2024-07-12T17:49:03.684960Z",
     "start_time": "2024-07-12T17:49:03.636443Z"
    }
   },
   "cell_type": "code",
   "source": [
    "# Display basic information about the datasets\n",
    "print(\"Present Year Data Info:\")\n",
    "print(air_system_present_year.info())\n",
    "print(\"\\nPrevious Years Data Info:\")\n",
    "print(air_system_previous_years.info())"
   ],
   "id": "cb1c2633657e3446",
   "outputs": [
    {
     "name": "stdout",
     "output_type": "stream",
     "text": [
      "Present Year Data Info:\n",
      "<class 'pandas.core.frame.DataFrame'>\n",
      "RangeIndex: 16000 entries, 0 to 15999\n",
      "Columns: 171 entries, class to eg_000\n",
      "dtypes: int64(1), object(170)\n",
      "memory usage: 20.9+ MB\n",
      "None\n",
      "\n",
      "Previous Years Data Info:\n",
      "<class 'pandas.core.frame.DataFrame'>\n",
      "RangeIndex: 60000 entries, 0 to 59999\n",
      "Columns: 171 entries, class to eg_000\n",
      "dtypes: int64(1), object(170)\n",
      "memory usage: 78.3+ MB\n",
      "None\n"
     ]
    }
   ],
   "execution_count": 51
  },
  {
   "metadata": {
    "ExecuteTime": {
     "end_time": "2024-07-12T17:49:03.736643Z",
     "start_time": "2024-07-12T17:49:03.687040Z"
    }
   },
   "cell_type": "code",
   "source": "air_system_present_year.head(10)  # Display the first few rows of the data",
   "id": "f780afe1bd5e7e3d",
   "outputs": [
    {
     "data": {
      "text/plain": [
       "  class  aa_000 ab_000      ac_000 ad_000 ae_000 af_000 ag_000 ag_001 ag_002  \\\n",
       "0   neg      60      0          20     12      0      0      0      0      0   \n",
       "1   neg      82      0          68     40      0      0      0      0      0   \n",
       "2   neg   66002      2         212    112      0      0      0      0      0   \n",
       "3   neg   59816     na        1010    936      0      0      0      0      0   \n",
       "4   neg    1814     na         156    140      0      0      0      0      0   \n",
       "5   neg     174     na          26     24      0      0     na     na     na   \n",
       "6   neg   40202     na         640    606      0      0      0      0      0   \n",
       "7   neg  120278     na  2130706432    256      0      0      0      0      0   \n",
       "8   neg   14592      0  2130706438    162      0      0      0      0      0   \n",
       "9   neg   28338     na  2130706432    238      0      0      0      0      0   \n",
       "\n",
       "   ...   ee_002  ee_003  ee_004  ee_005   ee_006  ee_007   ee_008 ee_009  \\\n",
       "0  ...     1098     138     412     654       78      88        0      0   \n",
       "1  ...     1068     276    1620     116       86     462        0      0   \n",
       "2  ...   495076  380368  440134  269556  1315022  153680      516      0   \n",
       "3  ...   540820  243270  483302  485332   431376  210074   281662   3232   \n",
       "4  ...     7646    4144   18466   49782     3176     482       76      0   \n",
       "5  ...       na      na      na      na       na      na       na     na   \n",
       "6  ...   526218  239734  439556  374248   169096   53658    41054    320   \n",
       "7  ...  1006722  459658  876356  689532   568540  500624  1006628  34820   \n",
       "8  ...   105024   57398   49152   38256   243268  145144        0      0   \n",
       "9  ...   357006  150056  264776  239282   140548   74750    32958     84   \n",
       "\n",
       "  ef_000 eg_000  \n",
       "0      0      0  \n",
       "1      0      0  \n",
       "2      0      0  \n",
       "3      0      0  \n",
       "4      0      0  \n",
       "5      0      0  \n",
       "6      0      0  \n",
       "7      0      0  \n",
       "8      0      0  \n",
       "9      0      0  \n",
       "\n",
       "[10 rows x 171 columns]"
      ],
      "text/html": [
       "<div>\n",
       "<style scoped>\n",
       "    .dataframe tbody tr th:only-of-type {\n",
       "        vertical-align: middle;\n",
       "    }\n",
       "\n",
       "    .dataframe tbody tr th {\n",
       "        vertical-align: top;\n",
       "    }\n",
       "\n",
       "    .dataframe thead th {\n",
       "        text-align: right;\n",
       "    }\n",
       "</style>\n",
       "<table border=\"1\" class=\"dataframe\">\n",
       "  <thead>\n",
       "    <tr style=\"text-align: right;\">\n",
       "      <th></th>\n",
       "      <th>class</th>\n",
       "      <th>aa_000</th>\n",
       "      <th>ab_000</th>\n",
       "      <th>ac_000</th>\n",
       "      <th>ad_000</th>\n",
       "      <th>ae_000</th>\n",
       "      <th>af_000</th>\n",
       "      <th>ag_000</th>\n",
       "      <th>ag_001</th>\n",
       "      <th>ag_002</th>\n",
       "      <th>...</th>\n",
       "      <th>ee_002</th>\n",
       "      <th>ee_003</th>\n",
       "      <th>ee_004</th>\n",
       "      <th>ee_005</th>\n",
       "      <th>ee_006</th>\n",
       "      <th>ee_007</th>\n",
       "      <th>ee_008</th>\n",
       "      <th>ee_009</th>\n",
       "      <th>ef_000</th>\n",
       "      <th>eg_000</th>\n",
       "    </tr>\n",
       "  </thead>\n",
       "  <tbody>\n",
       "    <tr>\n",
       "      <th>0</th>\n",
       "      <td>neg</td>\n",
       "      <td>60</td>\n",
       "      <td>0</td>\n",
       "      <td>20</td>\n",
       "      <td>12</td>\n",
       "      <td>0</td>\n",
       "      <td>0</td>\n",
       "      <td>0</td>\n",
       "      <td>0</td>\n",
       "      <td>0</td>\n",
       "      <td>...</td>\n",
       "      <td>1098</td>\n",
       "      <td>138</td>\n",
       "      <td>412</td>\n",
       "      <td>654</td>\n",
       "      <td>78</td>\n",
       "      <td>88</td>\n",
       "      <td>0</td>\n",
       "      <td>0</td>\n",
       "      <td>0</td>\n",
       "      <td>0</td>\n",
       "    </tr>\n",
       "    <tr>\n",
       "      <th>1</th>\n",
       "      <td>neg</td>\n",
       "      <td>82</td>\n",
       "      <td>0</td>\n",
       "      <td>68</td>\n",
       "      <td>40</td>\n",
       "      <td>0</td>\n",
       "      <td>0</td>\n",
       "      <td>0</td>\n",
       "      <td>0</td>\n",
       "      <td>0</td>\n",
       "      <td>...</td>\n",
       "      <td>1068</td>\n",
       "      <td>276</td>\n",
       "      <td>1620</td>\n",
       "      <td>116</td>\n",
       "      <td>86</td>\n",
       "      <td>462</td>\n",
       "      <td>0</td>\n",
       "      <td>0</td>\n",
       "      <td>0</td>\n",
       "      <td>0</td>\n",
       "    </tr>\n",
       "    <tr>\n",
       "      <th>2</th>\n",
       "      <td>neg</td>\n",
       "      <td>66002</td>\n",
       "      <td>2</td>\n",
       "      <td>212</td>\n",
       "      <td>112</td>\n",
       "      <td>0</td>\n",
       "      <td>0</td>\n",
       "      <td>0</td>\n",
       "      <td>0</td>\n",
       "      <td>0</td>\n",
       "      <td>...</td>\n",
       "      <td>495076</td>\n",
       "      <td>380368</td>\n",
       "      <td>440134</td>\n",
       "      <td>269556</td>\n",
       "      <td>1315022</td>\n",
       "      <td>153680</td>\n",
       "      <td>516</td>\n",
       "      <td>0</td>\n",
       "      <td>0</td>\n",
       "      <td>0</td>\n",
       "    </tr>\n",
       "    <tr>\n",
       "      <th>3</th>\n",
       "      <td>neg</td>\n",
       "      <td>59816</td>\n",
       "      <td>na</td>\n",
       "      <td>1010</td>\n",
       "      <td>936</td>\n",
       "      <td>0</td>\n",
       "      <td>0</td>\n",
       "      <td>0</td>\n",
       "      <td>0</td>\n",
       "      <td>0</td>\n",
       "      <td>...</td>\n",
       "      <td>540820</td>\n",
       "      <td>243270</td>\n",
       "      <td>483302</td>\n",
       "      <td>485332</td>\n",
       "      <td>431376</td>\n",
       "      <td>210074</td>\n",
       "      <td>281662</td>\n",
       "      <td>3232</td>\n",
       "      <td>0</td>\n",
       "      <td>0</td>\n",
       "    </tr>\n",
       "    <tr>\n",
       "      <th>4</th>\n",
       "      <td>neg</td>\n",
       "      <td>1814</td>\n",
       "      <td>na</td>\n",
       "      <td>156</td>\n",
       "      <td>140</td>\n",
       "      <td>0</td>\n",
       "      <td>0</td>\n",
       "      <td>0</td>\n",
       "      <td>0</td>\n",
       "      <td>0</td>\n",
       "      <td>...</td>\n",
       "      <td>7646</td>\n",
       "      <td>4144</td>\n",
       "      <td>18466</td>\n",
       "      <td>49782</td>\n",
       "      <td>3176</td>\n",
       "      <td>482</td>\n",
       "      <td>76</td>\n",
       "      <td>0</td>\n",
       "      <td>0</td>\n",
       "      <td>0</td>\n",
       "    </tr>\n",
       "    <tr>\n",
       "      <th>5</th>\n",
       "      <td>neg</td>\n",
       "      <td>174</td>\n",
       "      <td>na</td>\n",
       "      <td>26</td>\n",
       "      <td>24</td>\n",
       "      <td>0</td>\n",
       "      <td>0</td>\n",
       "      <td>na</td>\n",
       "      <td>na</td>\n",
       "      <td>na</td>\n",
       "      <td>...</td>\n",
       "      <td>na</td>\n",
       "      <td>na</td>\n",
       "      <td>na</td>\n",
       "      <td>na</td>\n",
       "      <td>na</td>\n",
       "      <td>na</td>\n",
       "      <td>na</td>\n",
       "      <td>na</td>\n",
       "      <td>0</td>\n",
       "      <td>0</td>\n",
       "    </tr>\n",
       "    <tr>\n",
       "      <th>6</th>\n",
       "      <td>neg</td>\n",
       "      <td>40202</td>\n",
       "      <td>na</td>\n",
       "      <td>640</td>\n",
       "      <td>606</td>\n",
       "      <td>0</td>\n",
       "      <td>0</td>\n",
       "      <td>0</td>\n",
       "      <td>0</td>\n",
       "      <td>0</td>\n",
       "      <td>...</td>\n",
       "      <td>526218</td>\n",
       "      <td>239734</td>\n",
       "      <td>439556</td>\n",
       "      <td>374248</td>\n",
       "      <td>169096</td>\n",
       "      <td>53658</td>\n",
       "      <td>41054</td>\n",
       "      <td>320</td>\n",
       "      <td>0</td>\n",
       "      <td>0</td>\n",
       "    </tr>\n",
       "    <tr>\n",
       "      <th>7</th>\n",
       "      <td>neg</td>\n",
       "      <td>120278</td>\n",
       "      <td>na</td>\n",
       "      <td>2130706432</td>\n",
       "      <td>256</td>\n",
       "      <td>0</td>\n",
       "      <td>0</td>\n",
       "      <td>0</td>\n",
       "      <td>0</td>\n",
       "      <td>0</td>\n",
       "      <td>...</td>\n",
       "      <td>1006722</td>\n",
       "      <td>459658</td>\n",
       "      <td>876356</td>\n",
       "      <td>689532</td>\n",
       "      <td>568540</td>\n",
       "      <td>500624</td>\n",
       "      <td>1006628</td>\n",
       "      <td>34820</td>\n",
       "      <td>0</td>\n",
       "      <td>0</td>\n",
       "    </tr>\n",
       "    <tr>\n",
       "      <th>8</th>\n",
       "      <td>neg</td>\n",
       "      <td>14592</td>\n",
       "      <td>0</td>\n",
       "      <td>2130706438</td>\n",
       "      <td>162</td>\n",
       "      <td>0</td>\n",
       "      <td>0</td>\n",
       "      <td>0</td>\n",
       "      <td>0</td>\n",
       "      <td>0</td>\n",
       "      <td>...</td>\n",
       "      <td>105024</td>\n",
       "      <td>57398</td>\n",
       "      <td>49152</td>\n",
       "      <td>38256</td>\n",
       "      <td>243268</td>\n",
       "      <td>145144</td>\n",
       "      <td>0</td>\n",
       "      <td>0</td>\n",
       "      <td>0</td>\n",
       "      <td>0</td>\n",
       "    </tr>\n",
       "    <tr>\n",
       "      <th>9</th>\n",
       "      <td>neg</td>\n",
       "      <td>28338</td>\n",
       "      <td>na</td>\n",
       "      <td>2130706432</td>\n",
       "      <td>238</td>\n",
       "      <td>0</td>\n",
       "      <td>0</td>\n",
       "      <td>0</td>\n",
       "      <td>0</td>\n",
       "      <td>0</td>\n",
       "      <td>...</td>\n",
       "      <td>357006</td>\n",
       "      <td>150056</td>\n",
       "      <td>264776</td>\n",
       "      <td>239282</td>\n",
       "      <td>140548</td>\n",
       "      <td>74750</td>\n",
       "      <td>32958</td>\n",
       "      <td>84</td>\n",
       "      <td>0</td>\n",
       "      <td>0</td>\n",
       "    </tr>\n",
       "  </tbody>\n",
       "</table>\n",
       "<p>10 rows × 171 columns</p>\n",
       "</div>"
      ]
     },
     "execution_count": 52,
     "metadata": {},
     "output_type": "execute_result"
    }
   ],
   "execution_count": 52
  },
  {
   "metadata": {},
   "cell_type": "markdown",
   "source": [
    "### Missing values:\n",
    "\n",
    "it seems the nan values are present in the data in the form of 'na'. We need to handle these missing values.  "
   ],
   "id": "fac0954a60dacd15"
  },
  {
   "metadata": {
    "ExecuteTime": {
     "end_time": "2024-07-12T17:49:04.230795Z",
     "start_time": "2024-07-12T17:49:03.740342Z"
    }
   },
   "cell_type": "code",
   "source": [
    "# chanage na to nan\n",
    "air_system_present_year = air_system_present_year.replace('na', pd.NA)\n",
    "air_system_previous_years = air_system_previous_years.replace('na', pd.NA)"
   ],
   "id": "ec7f5e8d0a53539c",
   "outputs": [],
   "execution_count": 53
  },
  {
   "metadata": {
    "ExecuteTime": {
     "end_time": "2024-07-12T17:49:10.262819Z",
     "start_time": "2024-07-12T17:49:04.231803Z"
    }
   },
   "cell_type": "code",
   "source": [
    "# Visualize missing values using missingno\n",
    "print(\"Missing Values Visualization:\")\n",
    "msno.matrix(air_system_previous_years)\n",
    "plt.show()\n",
    "\n",
    "# Visualize missing values using missingno\n",
    "print(\"Missing Values Visualization:\")\n",
    "msno.matrix(air_system_present_year)\n",
    "plt.show()"
   ],
   "id": "5154ac84143ec3c4",
   "outputs": [
    {
     "name": "stdout",
     "output_type": "stream",
     "text": [
      "Missing Values Visualization:\n"
     ]
    },
    {
     "data": {
      "text/plain": [
       "<Figure size 2500x1000 with 2 Axes>"
      ],
      "image/png": "[encoded data removed]"
     },
     "metadata": {},
     "output_type": "display_data"
    },
    {
     "name": "stdout",
     "output_type": "stream",
     "text": [
      "Missing Values Visualization:\n"
     ]
    },
    {
     "data": {
      "text/plain": [
       "<Figure size 2500x1000 with 2 Axes>"
      ],
      "image/png": "[encoded data removed]"
     },
     "metadata": {},
     "output_type": "display_data"
    }
   ],
   "execution_count": 54
  },
  {
   "metadata": {},
   "cell_type": "markdown",
   "source": [
    "it seems we have a lot of missing values in the data. We need to handle these missing values before proceeding further.\n",
    "\n"
   ],
   "id": "906b21881b6826ad"
  },
  {
   "metadata": {},
   "cell_type": "markdown",
   "source": [
    "## 3. Data Preparation\n",
    "\n",
    "### Data Cleaning:\n",
    "- Handle missing values (e.g., imputation, removal).\n",
    "- Ensure consistency and correct data types.\n",
    "\n",
    "We dont have any information on the columns, so we can't drop the columns with missing values. We can impute the missing values with the median of the respective columns."
   ],
   "id": "4a93c0d0ee9fd4ab"
  },
  {
   "metadata": {
    "ExecuteTime": {
     "end_time": "2024-07-12T17:49:17.702909Z",
     "start_time": "2024-07-12T17:49:10.263831Z"
    }
   },
   "cell_type": "code",
   "source": [
    "# turn all columns but class to numeric for imputation\n",
    "air_system_present_year = air_system_present_year.apply(pd.to_numeric, errors='ignore')\n",
    "air_system_previous_years = air_system_previous_years.apply(pd.to_numeric, errors='ignore')     \n",
    "\n",
    "# print data types count\n",
    "print(\"Data Types Count:\")\n",
    "print(air_system_present_year.dtypes.value_counts())    \n",
    "print(air_system_previous_years.dtypes.value_counts())"
   ],
   "id": "459a108beadd2f3f",
   "outputs": [
    {
     "name": "stdout",
     "output_type": "stream",
     "text": [
      "Data Types Count:\n",
      "float64    169\n",
      "object       1\n",
      "int64        1\n",
      "dtype: int64\n",
      "float64    169\n",
      "object       1\n",
      "int64        1\n",
      "dtype: int64\n"
     ]
    }
   ],
   "execution_count": 55
  },
  {
   "metadata": {
    "ExecuteTime": {
     "end_time": "2024-07-12T17:49:19.621119Z",
     "start_time": "2024-07-12T17:49:17.703923Z"
    }
   },
   "cell_type": "code",
   "source": [
    "# Impute missing values with median\n",
    "air_system_present_year = air_system_present_year.fillna(air_system_present_year.median(numeric_only=True))\n",
    "air_system_previous_years = air_system_previous_years.fillna(air_system_previous_years.median(numeric_only=True))"
   ],
   "id": "4790c9f40b8c4b51",
   "outputs": [],
   "execution_count": 56
  },
  {
   "metadata": {
    "ExecuteTime": {
     "end_time": "2024-07-12T17:49:19.683101Z",
     "start_time": "2024-07-12T17:49:19.621119Z"
    }
   },
   "cell_type": "code",
   "source": [
    "# Check the remaining missing values count after imputation \n",
    "print(\"Missing Values Count after Imputation:\")\n",
    "print(air_system_present_year.isnull().sum().sum()) \n",
    "print(air_system_previous_years.isnull().sum().sum())"
   ],
   "id": "bea645293e719389",
   "outputs": [
    {
     "name": "stdout",
     "output_type": "stream",
     "text": [
      "Missing Values Count after Imputation:\n",
      "0\n",
      "0\n"
     ]
    }
   ],
   "execution_count": 57
  },
  {
   "metadata": {},
   "cell_type": "markdown",
   "source": [
    "Feature Engineering:\n",
    "- Create new features that could help in predicting failures.\n",
    "\n",
    "obs: since we dont have any information on the columns, we can't create new features."
   ],
   "id": "26e94f2e66eaa59c"
  },
  {
   "metadata": {},
   "cell_type": "markdown",
   "source": [
    "### Data Integration:\n",
    "- Combine datasets if necessary (e.g., merging previous year features with current year targets).\n",
    "- Use standard scaler to scale the data.\n",
    "- Split the data into training and testing sets. \n",
    "   \n",
    "obs: we'll use the data from previous years to train the model and the data from the current year to evaluate the model."
   ],
   "id": "714069c8ebf3ac76"
  },
  {
   "metadata": {
    "ExecuteTime": {
     "end_time": "2024-07-12T17:49:20.091047Z",
     "start_time": "2024-07-12T17:49:19.684108Z"
    }
   },
   "cell_type": "code",
   "source": [
    "# Assuming air_system_previous_years_imputed and air_system_present_year_imputed are your preprocessed dataframes\n",
    "X_previous = air_system_previous_years.drop(columns=['class'])\n",
    "y_previous = air_system_previous_years['class']\n",
    "X_current = air_system_present_year.drop(columns=['class'])\n",
    "y_current = air_system_present_year['class']\n",
    "\n",
    "# Split the previous year's data for training and validation\n",
    "X_train, X_test, y_train, y_test = train_test_split(X_previous, y_previous, test_size=0.2, random_state=42)\n",
    "\n",
    "# Initialize the scaler and fit it on the training data\n",
    "scaler = StandardScaler()\n",
    "scaler.fit(X_train)\n",
    "\n",
    "# Transform both the training and validation data\n",
    "X_train_scaled = scaler.transform(X_train)\n",
    "X_test_scaled = scaler.transform(X_test)\n",
    "\n",
    "# Transform the current year's data using the same scaler\n",
    "X_current_scaled = scaler.transform(X_current)\n",
    "\n",
    "# Encode the target labels\n",
    "label_encoder = LabelEncoder()\n",
    "y_train_encoded = label_encoder.fit_transform(y_train)\n",
    "y_test_encoded = label_encoder.transform(y_test)\n",
    "y_current_encoded = label_encoder.transform(y_current)\n",
    "\n",
    "# Check the encoding of the labels\n",
    "label_classes = label_encoder.classes_\n",
    "print(f\"Label encoding: {label_classes}\")"
   ],
   "id": "e4c90a4ff415214a",
   "outputs": [
    {
     "name": "stdout",
     "output_type": "stream",
     "text": [
      "Label encoding: ['neg' 'pos']\n"
     ]
    }
   ],
   "execution_count": 58
  },
  {
   "metadata": {},
   "cell_type": "markdown",
   "source": [
    "### Dimensionality Reduction:\n",
    "- Apply feature selection methods to identify the most important features.  \n",
    "- Use techniques like PCA to reduce the number of features while retaining essential information."
   ],
   "id": "e13a3cc096d2b6a8"
  },
  {
   "metadata": {},
   "cell_type": "markdown",
   "source": [
    "#### Remove Constant Features:\n",
    "\n",
    "it was found, during the training, that the data contains constant features. So it's better to remove them before proceeding further."
   ],
   "id": "7dd45decb0ee55c1"
  },
  {
   "metadata": {
    "ExecuteTime": {
     "end_time": "2024-07-12T17:49:20.321117Z",
     "start_time": "2024-07-12T17:49:20.093572Z"
    }
   },
   "cell_type": "code",
   "source": [
    "\n",
    "\n",
    "# Remove constant features from the previous year's data\n",
    "constant_filter_prev = VarianceThreshold(threshold=0)\n",
    "X_train_scaled_prev = constant_filter_prev.fit_transform(X_train_scaled)\n",
    "X_test_scaled_prev = constant_filter_prev.transform(X_test_scaled)\n",
    "\n",
    "# Get the names of the remaining features in the previous year's data\n",
    "remaining_features_prev = X_train.columns[constant_filter_prev.get_support()]\n",
    "\n",
    "# Remove constant features from the current year's data\n",
    "constant_filter_curr = VarianceThreshold(threshold=0)\n",
    "X_current_scaled_curr = constant_filter_curr.fit_transform(X_current_scaled)\n",
    "\n",
    "# Get the names of the remaining features in the current year's data\n",
    "remaining_features_curr = X_current.columns[constant_filter_curr.get_support()]\n",
    "\n",
    "# Find the common remaining features between both datasets\n",
    "common_features = list(set(remaining_features_prev) & set(remaining_features_curr))\n",
    "X_train_scaled_common = pd.DataFrame(X_train_scaled, columns=X_train.columns)[common_features]\n",
    "X_test_scaled_common = pd.DataFrame(X_test_scaled, columns=X_train.columns)[common_features]\n",
    "X_current_scaled_common = pd.DataFrame(X_current_scaled, columns=X_current.columns)[common_features]"
   ],
   "id": "505fd71113ae7a00",
   "outputs": [],
   "execution_count": 59
  },
  {
   "metadata": {},
   "cell_type": "markdown",
   "source": [
    "#### Feature Selection Techniques:\n",
    "- Random Forest Feature Importance\n",
    "- Recursive Feature Elimination (RFE)\n",
    "- SelectKBest with ANOVA F-test\n",
    "- Lasso Feature Importance\n",
    "\n",
    "We'll use these techniques to select the most important features and create a ranking of features based on their importance.\n"
   ],
   "id": "e99016d6328192ae"
  },
  {
   "metadata": {
    "ExecuteTime": {
     "end_time": "2024-07-12T17:52:38.084032Z",
     "start_time": "2024-07-12T17:49:20.321117Z"
    }
   },
   "cell_type": "code",
   "source": [
    "\n",
    "# Random Forest Feature Importance\n",
    "rf_model = RandomForestClassifier(random_state=42)\n",
    "rf_model.fit(X_train_scaled_common, y_train_encoded)\n",
    "rf_importances = pd.Series(rf_model.feature_importances_, index=common_features)\n",
    "\n",
    "# RFE with Logistic Regression\n",
    "lr_model = LogisticRegression(max_iter=1000, random_state=42)\n",
    "rfe = RFE(estimator=lr_model, n_features_to_select=50)\n",
    "rfe.fit(X_train_scaled_common, y_train_encoded)\n",
    "rfe_support = pd.Series(rfe.support_, index=common_features)\n",
    "\n",
    "# SelectKBest with ANOVA F-test\n",
    "kbest = SelectKBest(score_func=f_classif, k=50)\n",
    "kbest.fit(X_train_scaled_common, y_train_encoded)\n",
    "kbest_support = pd.Series(kbest.get_support(), index=common_features)\n",
    "\n",
    "# Lasso Feature Importance\n",
    "lasso = Lasso(alpha=0.01, random_state=42)\n",
    "lasso.fit(X_train_scaled_common, y_train_encoded)\n",
    "lasso_coefficients = pd.Series(lasso.coef_, index=common_features)\n",
    "lasso_support = (lasso_coefficients != 0).astype(int)"
   ],
   "id": "e9c904775ecf947a",
   "outputs": [],
   "execution_count": 60
  },
  {
   "metadata": {
    "ExecuteTime": {
     "end_time": "2024-07-12T17:52:38.090473Z",
     "start_time": "2024-07-12T17:52:38.085040Z"
    }
   },
   "cell_type": "code",
   "source": [
    "# Rank the features based on Random Forest importances\n",
    "rf_rank = rf_importances.rank(ascending=False)\n",
    "\n",
    "# Rank the features based on RFE support (True/False)\n",
    "rfe_rank = rfe_support.rank(ascending=False)\n",
    "\n",
    "# Rank the features based on SelectKBest support (True/False)\n",
    "kbest_rank = kbest_support.rank(ascending=False)\n",
    "\n",
    "# Rank the features based on Lasso coefficients (non-zero/zero)\n",
    "lasso_rank = lasso_support.rank(ascending=False)\n"
   ],
   "id": "351766cb15a38312",
   "outputs": [],
   "execution_count": 61
  },
  {
   "metadata": {
    "ExecuteTime": {
     "end_time": "2024-07-12T17:52:38.100157Z",
     "start_time": "2024-07-12T17:52:38.091483Z"
    }
   },
   "cell_type": "code",
   "source": [
    "# Combine the ranks\n",
    "combined_ranks = pd.DataFrame({\n",
    "    'RandomForest': rf_rank,\n",
    "    'RFE': rfe_rank,\n",
    "    'SelectKBest': kbest_rank,\n",
    "    'Lasso': lasso_rank\n",
    "})\n",
    "\n",
    "# Average the ranks\n",
    "combined_ranks['AverageRank'] = combined_ranks.mean(axis=1)\n",
    "\n",
    "# Select top n features based on average rank\n",
    "top_20_features = combined_ranks.nsmallest(20, 'AverageRank').index.tolist()    # Select top 20 features    \n",
    "top_50_features = combined_ranks.nsmallest(50, 'AverageRank').index.tolist()    # Select top 50 features    \n",
    "print(f\"Top 20 features:\", top_20_features)\n",
    "print(f\"Top 50 features:\", top_50_features)"
   ],
   "id": "1cb88b2fd00371b1",
   "outputs": [
    {
     "name": "stdout",
     "output_type": "stream",
     "text": [
      "Top 20 features: ['bj_000', 'aq_000', 'ee_005', 'ag_003', 'cn_001', 'aa_000', 'ck_000', 'am_0', 'ci_000', 'bu_000', 'bt_000', 'cq_000', 'bh_000', 'ee_007', 'ay_008', 'cs_002', 'bv_000', 'bi_000', 'ee_002', 'by_000']\n",
      "Top 50 features: ['bj_000', 'aq_000', 'ee_005', 'ag_003', 'cn_001', 'aa_000', 'ck_000', 'am_0', 'ci_000', 'bu_000', 'bt_000', 'cq_000', 'bh_000', 'ee_007', 'ay_008', 'cs_002', 'bv_000', 'bi_000', 'ee_002', 'by_000', 'cn_002', 'cj_000', 'ee_003', 'cn_003', 'ba_006', 'ag_001', 'ap_000', 'bb_000', 'dn_000', 'ay_006', 'ao_000', 'bg_000', 'cn_004', 'ah_000', 'cs_004', 'cc_000', 'an_000', 'ba_001', 'bx_000', 'ag_006', 'ag_004', 'ag_005', 'bk_000', 'ee_000', 'ay_007', 'ee_004', 'ba_000', 'cs_003', 'ee_008', 'cn_006']\n"
     ]
    }
   ],
   "execution_count": 62
  },
  {
   "metadata": {},
   "cell_type": "markdown",
   "source": [
    "#### PCA:\n",
    "Using PCA on the 50 most important features to reduce the dimensionality of the data for comparison.   "
   ],
   "id": "34b58b91060e2650"
  },
  {
   "metadata": {
    "ExecuteTime": {
     "end_time": "2024-07-12T17:52:38.267704Z",
     "start_time": "2024-07-12T17:52:38.101164Z"
    }
   },
   "cell_type": "code",
   "source": [
    "# Apply PCA to the 50 most important features\n",
    "pca = PCA(n_components=10, random_state=42)\n",
    "X_train_pca = pca.fit_transform(X_train_scaled_common[top_50_features]) \n",
    "X_test_pca = pca.transform(X_test_scaled_common[top_50_features])\n",
    "\n",
    "# Transform the current year's data using the same PCA model\n",
    "X_current_pca = pca.transform(X_current_scaled_common[top_50_features])\n"
   ],
   "id": "21a8135bc8c2cf3b",
   "outputs": [],
   "execution_count": 63
  },
  {
   "metadata": {},
   "cell_type": "markdown",
   "source": [
    "## 4. Modeling\n",
    "\n",
    "### Model Selection:\n",
    "- appropriate models for binary classification: \n",
    "    - Random Forest\n",
    "    - Gradient Boosting\n",
    "    - Logistic Regression\n",
    "- Train multiple models using the selected features techniques. \n",
    "- Evaluate the models using appropriate metrics. \n",
    "\n"
   ],
   "id": "ddd2ec52721c8e30"
  },
  {
   "metadata": {
    "ExecuteTime": {
     "end_time": "2024-07-12T17:53:48.744338Z",
     "start_time": "2024-07-12T17:52:38.268712Z"
    }
   },
   "cell_type": "code",
   "source": [
    "# Random Forest Classifier  \n",
    "rf_model = RandomForestClassifier(random_state=42)\n",
    "rf_model.fit(X_train_scaled_common[top_20_features], y_train_encoded)\n",
    "rf_score = rf_model.score(X_test_scaled_common[top_20_features], y_test_encoded)    \n",
    "y_pred_rf = rf_model.predict(X_test_scaled_common[top_20_features])\n",
    "rf_class_report = classification_report(y_test_encoded, y_pred_rf)  \n",
    "print(f\"Random Forest Score:\", rf_score)    \n",
    "print(rf_class_report)      \n",
    "\n",
    "# Random Forest Classifier with PCA for comparison  \n",
    "rf_model_pca = RandomForestClassifier(random_state=42)\n",
    "rf_model_pca.fit(X_train_pca, y_train_encoded)\n",
    "rf_score_pca = rf_model_pca.score(X_test_pca, y_test_encoded)   \n",
    "y_pred_rf_pca = rf_model_pca.predict(X_test_pca)\n",
    "rf_class_report_pca = classification_report(y_test_encoded, y_pred_rf_pca)  \n",
    "print(f\"Random Forest Score with PCA:\", rf_score_pca)\n",
    "print(rf_class_report_pca)\n",
    "\n",
    "\n",
    "\n",
    "# Gradient Boosting Classifier      \n",
    "gb_model = GradientBoostingClassifier(random_state=42)  \n",
    "gb_model.fit(X_train_scaled_common[top_20_features], y_train_encoded)\n",
    "gb_score = gb_model.score(X_test_scaled_common[top_20_features], y_test_encoded)\n",
    "y_pred_gb = gb_model.predict(X_test_scaled_common[top_20_features]) \n",
    "gb_class_report = classification_report(y_test_encoded, y_pred_gb)\n",
    "print(f\"Gradient Boosting Score:\", gb_score)\n",
    "print(gb_class_report)\n",
    "\n",
    "\n",
    "# Logistic Regression Classifier\n",
    "lr_model = LogisticRegression(max_iter=1000, random_state=42)\n",
    "lr_model.fit(X_train_scaled_common[top_20_features], y_train_encoded)\n",
    "lr_score = lr_model.score(X_test_scaled_common[top_20_features], y_test_encoded)\n",
    "y_pred_lr = lr_model.predict(X_test_scaled_common[top_20_features]) \n",
    "\n",
    "lr_class_report = classification_report(y_test_encoded, y_pred_lr)\n",
    "print(f\"Logistic Regression Score:\", lr_score)      \n",
    "print(lr_class_report) "
   ],
   "id": "d48ba539f77cd1cd",
   "outputs": [
    {
     "name": "stdout",
     "output_type": "stream",
     "text": [
      "Random Forest Score: 0.9923333333333333\n",
      "              precision    recall  f1-score   support\n",
      "\n",
      "           0       0.99      1.00      1.00     11788\n",
      "           1       0.87      0.67      0.76       212\n",
      "\n",
      "    accuracy                           0.99     12000\n",
      "   macro avg       0.93      0.83      0.88     12000\n",
      "weighted avg       0.99      0.99      0.99     12000\n",
      "\n",
      "Random Forest Score with PCA: 0.9905833333333334\n",
      "              precision    recall  f1-score   support\n",
      "\n",
      "           0       0.99      1.00      1.00     11788\n",
      "           1       0.81      0.61      0.70       212\n",
      "\n",
      "    accuracy                           0.99     12000\n",
      "   macro avg       0.90      0.81      0.85     12000\n",
      "weighted avg       0.99      0.99      0.99     12000\n",
      "\n",
      "Gradient Boosting Score: 0.99025\n",
      "              precision    recall  f1-score   support\n",
      "\n",
      "           0       0.99      1.00      1.00     11788\n",
      "           1       0.80      0.59      0.68       212\n",
      "\n",
      "    accuracy                           0.99     12000\n",
      "   macro avg       0.90      0.80      0.84     12000\n",
      "weighted avg       0.99      0.99      0.99     12000\n",
      "\n",
      "Logistic Regression Score: 0.98825\n",
      "              precision    recall  f1-score   support\n",
      "\n",
      "           0       0.99      1.00      0.99     11788\n",
      "           1       0.73      0.54      0.62       212\n",
      "\n",
      "    accuracy                           0.99     12000\n",
      "   macro avg       0.86      0.77      0.81     12000\n",
      "weighted avg       0.99      0.99      0.99     12000\n",
      "\n"
     ]
    }
   ],
   "execution_count": 64
  },
  {
   "metadata": {},
   "cell_type": "markdown",
   "source": [
    "Assessing Model Performance:\n",
    "\n",
    "as we can see, the Random Forest model has the highest score. The PCA model has a slightly lower score but still performs well.\n",
    "But the recall is very low for all the models, probably due to the class imbalance. We can try to set weights for the classes to balance the recall and change the threshold for the probability to classify.   "
   ],
   "id": "b4c6c95d22ce72d4"
  },
  {
   "metadata": {},
   "cell_type": "markdown",
   "source": [
    "### Hyperparameter Tuning:\n",
    "\n",
    "- Optimize model parameters using Random Search.\n",
    "- Define custom scoring functions for cost savings and recall.  "
   ],
   "id": "4da27d202441ef0f"
  },
  {
   "metadata": {},
   "cell_type": "markdown",
   "source": "#### Custom Scoring Functions:  ",
   "id": "bdd3b654552a2476"
  },
  {
   "metadata": {
    "ExecuteTime": {
     "end_time": "2024-07-12T17:53:48.750710Z",
     "start_time": "2024-07-12T17:53:48.745347Z"
    }
   },
   "cell_type": "code",
   "source": [
    "# Define a custom scorer for recall of class 1\n",
    "recall_scorer = make_scorer(recall_score, pos_label=1)\n",
    "\n",
    "# Custom cost-saving function\n",
    "def cost_saving_function(y_true, y_pred):\n",
    "    saving_tp = 475  # Savings for each true positive\n",
    "    cost_fp = 10     # Cost for each false positive\n",
    "\n",
    "    # Calculate True Positives (TP) and False Positives (FP)\n",
    "    TP = sum((y_true == 1) & (y_pred == 1))\n",
    "    FP = sum((y_true == 0) & (y_pred == 1))\n",
    "\n",
    "    # Calculate total savings\n",
    "    total_savings = (TP * saving_tp) - (FP * cost_fp)\n",
    "\n",
    "    return total_savings\n",
    "\n",
    "# Create a custom scorer for cost savings\n",
    "cost_saving_scorer = make_scorer(cost_saving_function, greater_is_better=True)"
   ],
   "id": "983521422d7f340",
   "outputs": [],
   "execution_count": 65
  },
  {
   "metadata": {},
   "cell_type": "markdown",
   "source": "#### RandomizedSearchCV:",
   "id": "1c8294d7ee48159d"
  },
  {
   "metadata": {
    "ExecuteTime": {
     "end_time": "2024-07-12T17:53:48.755603Z",
     "start_time": "2024-07-12T17:53:48.751716Z"
    }
   },
   "cell_type": "code",
   "source": [
    "# # Define the parameter grid for RandomizedSearchCV\n",
    "# param_grid = {\n",
    "#     'n_estimators': [100, 200, 300, 400, 500],\n",
    "#     'max_features': ['sqrt', 'log2'],\n",
    "#     'max_depth': [None, 10, 20, 30, 40, 50],\n",
    "#     'min_samples_split': [2, 5, 10],\n",
    "#     'min_samples_leaf': [1, 2, 4],\n",
    "#     'bootstrap': [True, False],\n",
    "#     'class_weight': ['balanced', 'balanced_subsample']\n",
    "# }\n",
    "# \n",
    "# # initialize Random Forest model    \n",
    "# rf_model = RandomForestClassifier(random_state=42)  \n",
    "# \n",
    "# # Perform RandomizedSearchCV    \n",
    "# rf_random_search = RandomizedSearchCV(estimator=rf_model, param_distributions=param_grid, n_iter=100, cv=3, scoring=cost_saving_scorer, verbose=2, n_jobs= 3, random_state=42)\n",
    "# \n",
    "# # Fit the model on the training data using the top 20 features  \n",
    "# rf_random_search.fit(X_train_scaled_common[top_20_features], y_train_encoded)\n",
    "# \n",
    "# # Get the best model\n",
    "# best_rf_model = rf_random_search.best_estimator_\n",
    "# \n",
    "# # Evaluate the best model\n",
    "# y_pred_rf_best = best_rf_model.predict(X_test_scaled_common[top_20_features])\n",
    "# best_rf_score = best_rf_model.score(X_test_scaled_common[top_20_features], y_test_encoded)  \n",
    "# best_rf_class_report = classification_report(y_test_encoded, y_pred_rf_best)\n",
    "# print(f\"Best Random Forest Parameters:\", rf_random_search.best_params_)\n",
    "# print(f\"Best Random Forest Score:\", best_rf_score)  \n",
    "# print(best_rf_class_report)"
   ],
   "id": "fee46b9e123cb948",
   "outputs": [],
   "execution_count": 66
  },
  {
   "metadata": {},
   "cell_type": "markdown",
   "source": [
    "### Best Recall Model:\n",
    "Using Recall custom scorer to find the best model.  \n",
    "\n",
    "Best Random Forest Parameters: {'n_estimators': 200, 'min_samples_split': 10, 'min_samples_leaf': 2, 'max_features': 'log2', 'max_depth': 10, 'class_weight': 'balanced_subsample', 'bootstrap': False}\n",
    "\n",
    "Best Random Forest Score: 0.9769166666666667\n",
    "\n",
    "                  precision    recall  f1-score   support\n",
    "    \n",
    "               0       1.00      0.98      0.99     11788\n",
    "               1       0.43      0.90      0.58       212\n",
    "        accuracy                           0.98     12000\n",
    "       macro avg       0.71      0.94      0.78     12000\n",
    "    weighted avg       0.99      0.98      0.98     12000\n"
   ],
   "id": "dd10d9d4039290f9"
  },
  {
   "metadata": {
    "ExecuteTime": {
     "end_time": "2024-07-12T17:54:25.048235Z",
     "start_time": "2024-07-12T17:53:48.756611Z"
    }
   },
   "cell_type": "code",
   "source": [
    "# re-train the model with the best parameters found for Recall\n",
    "rf_best_recall = RandomForestClassifier(n_estimators=200, min_samples_split=10, min_samples_leaf=2, max_features='log2', max_depth=10, class_weight='balanced_subsample', bootstrap=False, random_state=42)      \n",
    "rf_best_recall.fit(X_train_scaled_common[top_20_features], y_train_encoded)\n",
    "rf_best_recall_score = rf_best_recall.score(X_test_scaled_common[top_20_features], y_test_encoded)\n",
    "y_pred_rf_best_recall = rf_best_recall.predict(X_test_scaled_common[top_20_features])"
   ],
   "id": "ed27b7c13646b703",
   "outputs": [],
   "execution_count": 67
  },
  {
   "metadata": {
    "ExecuteTime": {
     "end_time": "2024-07-12T17:54:25.067140Z",
     "start_time": "2024-07-12T17:54:25.049242Z"
    }
   },
   "cell_type": "code",
   "source": [
    "class_report_rf_best_recall = classification_report(y_test_encoded, y_pred_rf_best_recall)\n",
    "print(f\"Random Forest Best Score:\", rf_best_recall_score)\n",
    "print(class_report_rf_best_recall)"
   ],
   "id": "8d28f3f45d59e199",
   "outputs": [
    {
     "name": "stdout",
     "output_type": "stream",
     "text": [
      "Random Forest Best Score: 0.9769166666666667\n",
      "              precision    recall  f1-score   support\n",
      "\n",
      "           0       1.00      0.98      0.99     11788\n",
      "           1       0.43      0.90      0.58       212\n",
      "\n",
      "    accuracy                           0.98     12000\n",
      "   macro avg       0.71      0.94      0.78     12000\n",
      "weighted avg       0.99      0.98      0.98     12000\n",
      "\n"
     ]
    }
   ],
   "execution_count": 68
  },
  {
   "metadata": {},
   "cell_type": "markdown",
   "source": "",
   "id": "dcec636802832a29"
  },
  {
   "metadata": {},
   "cell_type": "markdown",
   "source": [
    "### Best Cost Savings Scorer Model:\n",
    "Using Cost Savings custom scorer to find the best model.    \n",
    "\n",
    "Best Random Forest Parameters: {'n_estimators': 500, 'min_samples_split': 2, 'min_samples_leaf': 4, 'max_features': 'sqrt', 'max_depth': 10, 'class_weight': 'balanced', 'bootstrap': False}\n",
    "\n",
    "Best Random Forest Score: 0.9774166666666667\n",
    "\n",
    "                          precision    recall  f1-score   support\n",
    "            \n",
    "                       0       1.00      0.98      0.99     11788\n",
    "                       1       0.43      0.91      0.59       212\n",
    "            \n",
    "                accuracy                           0.98     12000\n",
    "               macro avg       0.72      0.94      0.79     12000\n",
    "            weighted avg       0.99      0.98      0.98     12000"
   ],
   "id": "3652f42d12ac15bc"
  },
  {
   "metadata": {
    "ExecuteTime": {
     "end_time": "2024-07-12T17:55:57.435010Z",
     "start_time": "2024-07-12T17:54:25.068222Z"
    }
   },
   "cell_type": "code",
   "source": [
    "# re-train the model with the best parameters found for Cost Savings    \n",
    "\n",
    "rf_best_custom = RandomForestClassifier(n_estimators=500, min_samples_split=2, min_samples_leaf=4, max_features='sqrt', max_depth=10, class_weight='balanced', bootstrap=False, random_state=42)    \n",
    "rf_best_custom.fit(X_train_scaled_common[top_20_features], y_train_encoded)\n",
    "rf_best_custom_score = rf_best_custom.score(X_test_scaled_common[top_20_features], y_test_encoded)  \n",
    "y_pred_rf_best_custom = rf_best_custom.predict(X_test_scaled_common[top_20_features])"
   ],
   "id": "4fe81b07ef281b6e",
   "outputs": [],
   "execution_count": 69
  },
  {
   "metadata": {
    "ExecuteTime": {
     "end_time": "2024-07-12T17:55:57.453552Z",
     "start_time": "2024-07-12T17:55:57.436017Z"
    }
   },
   "cell_type": "code",
   "source": [
    "class_report_rf_best_custom = classification_report(y_test_encoded, y_pred_rf_best_custom)\n",
    "print(f\"Random Forest Best Score:\", rf_best_custom_score)\n",
    "print(class_report_rf_best_custom)"
   ],
   "id": "df4b6c0cd43a2566",
   "outputs": [
    {
     "name": "stdout",
     "output_type": "stream",
     "text": [
      "Random Forest Best Score: 0.9774166666666667\n",
      "              precision    recall  f1-score   support\n",
      "\n",
      "           0       1.00      0.98      0.99     11788\n",
      "           1       0.43      0.91      0.59       212\n",
      "\n",
      "    accuracy                           0.98     12000\n",
      "   macro avg       0.72      0.94      0.79     12000\n",
      "weighted avg       0.99      0.98      0.98     12000\n",
      "\n"
     ]
    }
   ],
   "execution_count": 70
  },
  {
   "metadata": {},
   "cell_type": "markdown",
   "source": [
    "### Threshold Cost Analysis:\n",
    "\n",
    "Cost Analysis:  \n",
    "\n",
    "\n",
    "- False positive (FP) costs: 10\n",
    "- True positive (TP) saves: 475\n",
    "- False negatives does'nt change the baseline cost: 500\n",
    "\n",
    "\n",
    "\n",
    "We can adjust the threshold for the probability to classify to calculate the best cost savings for each model."
   ],
   "id": "a6ab30ced16072e3"
  },
  {
   "metadata": {
    "ExecuteTime": {
     "end_time": "2024-07-12T17:55:57.980522Z",
     "start_time": "2024-07-12T17:55:57.454560Z"
    }
   },
   "cell_type": "code",
   "source": [
    "from sklearn.metrics import precision_score\n",
    "\n",
    "# adjusting the threshold for the probability to classify to calculate the best cost savings \n",
    "\n",
    "# Get the predicted probabilities for class 1 in the current year's data\n",
    "\n",
    "y_prob_rf_recall = rf_best_recall.predict_proba(X_test_scaled_common[top_20_features])[:, 1]\n",
    "y_prob_rf_custom = rf_best_custom.predict_proba(X_test_scaled_common[top_20_features])[:, 1]\n",
    "y_prob_rf = rf_model.predict_proba(X_test_scaled_common[top_20_features])[:, 1]    \n",
    "y_prob_lr = lr_model.predict_proba(X_test_scaled_common[top_20_features])[:, 1] \n",
    "y_prob_gb = gb_model.predict_proba(X_test_scaled_common[top_20_features])[:, 1]\n",
    "\n",
    "def find_best_threshold(y_true, y_pred_prob):\n",
    "    thresholds = np.arange(0.1, 1.0, 0.1)\n",
    "    best_threshold = 0\n",
    "    best_cost_savings = -np.inf\n",
    "    cost_fp, saving_tp = 10, 475\n",
    "\n",
    "    for threshold in thresholds:\n",
    "        y_pred_adjusted = (y_pred_prob >= threshold).astype(int)\n",
    "\n",
    "        FP = sum((y_true == 0) & (y_pred_adjusted == 1))\n",
    "        TP = sum((y_true == 1) & (y_pred_adjusted == 1))\n",
    "\n",
    "        cost_savings = (TP * saving_tp) - (FP * cost_fp)\n",
    "\n",
    "        if cost_savings > best_cost_savings:\n",
    "            best_threshold = threshold\n",
    "            best_cost_savings = cost_savings\n",
    "\n",
    "    return best_threshold, best_cost_savings"
   ],
   "id": "77758f2585db639a",
   "outputs": [],
   "execution_count": 71
  },
  {
   "metadata": {
    "ExecuteTime": {
     "end_time": "2024-07-12T18:00:06.440512Z",
     "start_time": "2024-07-12T18:00:06.325665Z"
    }
   },
   "cell_type": "code",
   "source": [
    "# Find the best threshold for Random Forest model with best recall  \n",
    "best_threshold_rf_recall, best_cost_savings_rf_recall = find_best_threshold(y_test_encoded, y_prob_rf_recall)\n",
    "\n",
    "# Find the best threshold for Random Forest model with best cost savings\n",
    "best_threshold_rf_custom, best_cost_savings_rf_custom = find_best_threshold(y_test_encoded, y_prob_rf_custom)\n",
    "\n",
    "# Find the best threshold for Random Forest model\n",
    "best_threshold_rf, best_cost_savings_rf = find_best_threshold(y_test_encoded, y_prob_rf)\n",
    "\n",
    "# Find the best threshold for Logistic Regression model \n",
    "best_threshold_lr, best_cost_savings_lr = find_best_threshold(y_test_encoded, y_prob_lr)\n",
    "\n",
    "# Find the best threshold for Gradient Boosting model\n",
    "best_threshold_gb, best_cost_savings_gb = find_best_threshold(y_test_encoded, y_prob_gb)"
   ],
   "id": "9edb3b0a9de6fd0c",
   "outputs": [],
   "execution_count": 73
  },
  {
   "metadata": {},
   "cell_type": "markdown",
   "source": [
    "## 5. Evaluation\n",
    "\n",
    "Model Performance:\n",
    "- Compare model performance on validation data.\n",
    "- Evaluate the best model using the current year's data. \n",
    "- compare the cost savings of the models.\n",
    "\n"
   ],
   "id": "a0d7b9a63b070e8b"
  },
  {
   "metadata": {},
   "cell_type": "markdown",
   "source": "### Model Evaluation on Validation Data(Current Year):",
   "id": "367eeccd8136e8"
  },
  {
   "metadata": {
    "ExecuteTime": {
     "end_time": "2024-07-12T18:41:33.377627Z",
     "start_time": "2024-07-12T18:41:32.584265Z"
    }
   },
   "cell_type": "code",
   "source": [
    "# Evaluate the models on the current year's data using the best threshold   \n",
    "y_prob_rf_recall_current = rf_best_recall.predict_proba(X_current_scaled_common[top_20_features])[:, 1] >= best_threshold_rf_recall    \n",
    "y_prob_rf_custom_current = rf_best_custom.predict_proba(X_current_scaled_common[top_20_features])[:, 1] >= best_threshold_rf_custom\n",
    "y_prob_rf_current = rf_model.predict_proba(X_current_scaled_common[top_20_features])[:, 1] >= best_threshold_rf\n",
    "y_prob_lr_current = lr_model.predict_proba(X_current_scaled_common[top_20_features])[:, 1] >= best_threshold_lr\n",
    "y_prob_gb_current = gb_model.predict_proba(X_current_scaled_common[top_20_features])[:, 1] >= best_threshold_gb\n",
    "\n",
    "def total_costs(y_true, y_pred):    \n",
    "    \n",
    "    FP = sum((y_true == 0) & (y_pred == 1)) # False Positives cost 10 \n",
    "    TP = sum((y_true == 1) & (y_pred == 1)) # True Positives cost 25\n",
    "    FN = sum((y_true == 1) & (y_pred == 0)) # False Negatives cost 500  \n",
    "    # True Negatives cost 0\n",
    "    cost = (FP * 10) + (TP * 25) + (FN * 500)      \n",
    "    return cost\n",
    "\n",
    "# Calculate the total cost for each model   \n",
    "cost_rf_recall = total_costs(y_current_encoded, y_prob_rf_recall_current)\n",
    "cost_rf_custom = total_costs(y_current_encoded, y_prob_rf_custom_current)   \n",
    "cost_rf = total_costs(y_current_encoded, y_prob_rf_current) \n",
    "cost_lr = total_costs(y_current_encoded, y_prob_lr_current) \n",
    "cost_gb = total_costs(y_current_encoded, y_prob_gb_current)\n",
    "total_cost_2020 = 37000\n",
    "\n",
    "models = ['Current Cost(2020) - No Model','Random Forest (Recall)', 'Random Forest (Custom)', 'Random Forest', 'Logistic Regression', 'Gradient Boosting']\n",
    "costs = [total_cost_2020, cost_rf_recall, cost_rf_custom, cost_rf, cost_lr, cost_gb]\n",
    "\n",
    "# Create a DataFrame for sorting\n",
    "df = pd.DataFrame({\n",
    "    'Model': models,\n",
    "    'Costs': costs\n",
    "})\n",
    "\n",
    "# Sort the DataFrame by Cost Savings\n",
    "df_sorted = df.sort_values(by='Costs', ascending=False)"
   ],
   "id": "b5914ab355bb01cd",
   "outputs": [],
   "execution_count": 101
  },
  {
   "metadata": {},
   "cell_type": "markdown",
   "source": "### Plot comparison of cost savings for each model.",
   "id": "f409e6b463a233d7"
  },
  {
   "metadata": {
    "ExecuteTime": {
     "end_time": "2024-07-12T18:47:19.196368Z",
     "start_time": "2024-07-12T18:47:18.970350Z"
    }
   },
   "cell_type": "code",
   "source": [
    "# Plot the results\n",
    "plt.figure(figsize=(10, 6))  # Adjust the figure size as needed\n",
    "bars = plt.barh(df_sorted['Model'], df_sorted['Costs'])\n",
    "plt.ylabel('Models')\n",
    "plt.xlabel('Cost ($)')\n",
    "plt.title('Total Cost for Different Models')\n",
    "\n",
    "# Add data labels\n",
    "for bar in bars:\n",
    "    # Get the width (i.e., the cost) and the height (y position) of the bar\n",
    "    width = bar.get_width()\n",
    "    y_pos = bar.get_y() + bar.get_height() / 2\n",
    "\n",
    "    # Add the text label centered on the bar\n",
    "    plt.text(width, y_pos, f'${width:,.2f}', va='center', ha='left', fontsize=10)\n",
    "\n",
    "plt.tight_layout()  # Adjust layout to make room for the rotated labels\n",
    "plt.show()"
   ],
   "id": "897ec9aedf334837",
   "outputs": [
    {
     "data": {
      "text/plain": [
       "<Figure size 1000x600 with 1 Axes>"
      ],
      "image/png": "[encoded data removed]"
     },
     "metadata": {},
     "output_type": "display_data"
    }
   ],
   "execution_count": 104
  },
  {
   "metadata": {},
   "cell_type": "markdown",
   "source": [
    "### Model Evaluation Summary:   \n",
    "\n",
    "The Random Forest model with custom scoring has the highest cost savings. But the Random Forest model with recall scoring also performs well.\n",
    "Only the baseline Logistic Regression model has a lower cost savings compared to current year's cost. but we managed to reduce the cost by U$16,265 dollars using the best model.   "
   ],
   "id": "f06b7169e6bca878"
  },
  {
   "metadata": {},
   "cell_type": "markdown",
   "source": [
    "## 6. Deployment\n",
    "\n",
    "Model Deployment:\n",
    "- Plan deployment using containerization (e.g., Docker) and expose the model as an API.\n",
    "\n",
    "Monitoring and Maintenance:\n",
    "- Set up monitoring for model performance and data consistency.\n",
    "- Plan for periodic retraining based on performance metrics."
   ],
   "id": "a06d51269388a589"
  },
  {
   "metadata": {},
   "cell_type": "markdown",
   "source": [
    "Here's the filled-in responses to the questions based on your provided notebook steps:\n",
    "\n",
    "### 1. What steps would you take to solve this problem? Please describe as completely and clearly as possible all the steps that you see as essential for solving the problem.\n",
    "\n",
    "1. **Business Understanding**: Define the objectives, understand the maintenance costs, and identify key business questions.\n",
    "2. **Data Understanding**: Import and explore the datasets, check for missing values, and visualize the data.\n",
    "3. **Data Preparation**: Handle missing values, transform data types, scale the data, and split it into training and test sets.\n",
    "4. **Feature Engineering**: Select and engineer features, apply feature selection techniques, and perform dimensionality reduction.\n",
    "5. **Modeling**: Train multiple models (Random Forest, Gradient Boosting, Logistic Regression), evaluate them, and perform hyperparameter tuning.\n",
    "6. **Evaluation**: Assess model performance, adjust decision thresholds to optimize cost savings, and compare models.\n",
    "7. **Deployment**: Plan for model deployment, monitoring, and periodic retraining.\n",
    "\n",
    "### 2. Which technical data science metric would you use to solve this challenge? Ex: absolute error, rmse, etc.\n",
    "\n",
    "- **Recall**: To ensure the model identifies as many defective trucks as possible.\n",
    "- **Custom Cost-Saving Metric**: To directly optimize for financial savings based on the cost structure.\n",
    "\n",
    "### 3. Which business metric would you use to solve the challenge?\n",
    "\n",
    "- **Cost Savings**: The primary business metric is the reduction in maintenance costs, calculated by considering the savings from true positives and the costs from false positives.\n",
    "\n",
    "### 4. How do technical metrics relate to the business metrics?\n",
    "\n",
    "- **Recall** relates to **Cost Savings**: Higher recall means more defective trucks are identified, reducing the high costs of corrective maintenance.\n",
    "- **Precision** impacts **Cost Savings**: While precision is not directly optimized, lower false positives help reduce unnecessary inspection costs.\n",
    "- **Custom Cost-Saving Metric**: Directly translates model performance into business financial terms.\n",
    "\n",
    "### 5. What types of analyses would you like to perform on the customer database?\n",
    "\n",
    "- **Missing Values Analysis**: To understand the extent and pattern of missing data.\n",
    "- **Feature Correlation Analysis**: To identify relationships between features and the target variable.\n",
    "- **Class Distribution Analysis**: To understand the imbalance in the target classes.\n",
    "- **Cost Analysis**: To evaluate the financial impact of different prediction outcomes.\n",
    "\n",
    "### 6. What techniques would you use to reduce the dimensionality of the problem?\n",
    "\n",
    "- **Principal Component Analysis (PCA)**: To reduce the number of features while retaining essential information.\n",
    "- **Feature Selection Techniques**: To identify the most important features, such as Random Forest Feature Importance and Recursive Feature Elimination.\n",
    "- **Variance Threshold**: To remove constant features that provide no variance in the data.\n",
    "\n",
    "### 7. What techniques would you use to select variables for your predictive model?\n",
    "\n",
    "- **Random Forest Feature Importance**\n",
    "- **Recursive Feature Elimination (RFE)**\n",
    "- **SelectKBest with ANOVA F-test**\n",
    "- **Lasso Regression**\n",
    "\n",
    "### 8. What predictive models would you use or test for this problem? Please indicate at least 3.\n",
    "\n",
    "- **Random Forest Classifier**\n",
    "- **Gradient Boosting Classifier**\n",
    "- **Logistic Regression**\n",
    "\n",
    "### 9. How would you rate which of the trained models is the best?\n",
    "\n",
    "- **Custom Cost-Saving Metric**: Evaluate models based on their financial impact.\n",
    "- **Recall for Class 1**: To ensure the model effectively identifies defective trucks.\n",
    "- **F1 Score**: To balance precision and recall.\n",
    "\n",
    "### 10. How would you explain the result of your model? Is it possible to know which variables are most important?\n",
    "\n",
    "- **Feature Importance**: Use the feature importances from models like Random Forest and Lasso to explain which features contribute most to the predictions.\n",
    "- **Model Metrics**: Present recall, precision, and cost savings to demonstrate the model's effectiveness.\n",
    "\n",
    "### 11. How would you assess the financial impact of the proposed model?\n",
    "\n",
    "- **Cost Analysis**: Compare the maintenance costs with and without the model using the custom cost-saving metric.\n",
    "- **Scenario Simulation**: Evaluate different decision thresholds to find the optimal balance of recall and cost savings.\n",
    "\n",
    "### 12. What techniques would you use to perform the hyperparameter optimization of the chosen model?\n",
    "\n",
    "- **RandomizedSearchCV**: To explore a wide range of hyperparameters efficiently.\n",
    "- **Custom Scorers**: Use recall and cost-saving metrics to guide the optimization process.\n",
    "- **Threshold Adjustment**: Fine-tune the decision thresholds to optimize cost savings.\n",
    "\n",
    "### 13. What risks or precautions would you present to the customer before putting this model into production?\n",
    "\n",
    "- **Data Drift**: The model's performance may degrade over time if the data distribution changes.\n",
    "- **Class Imbalance**: The model may struggle with imbalanced classes, leading to higher false positives or negatives.\n",
    "- **Model Interpretability**: Ensure that the model's decisions can be explained and justified.\n",
    "\n",
    "### 14. If your predictive model is approved, how would you put it into production?\n",
    "\n",
    "- **Containerization (Docker)**: Package the model in a container for consistent deployment across environments.\n",
    "- **API Exposure**: Create an API endpoint to serve predictions.\n",
    "- **CI/CD Pipeline**: Set up continuous integration and deployment to automate updates and retraining.\n",
    "\n",
    "### 15. If the model is in production, how would you monitor it?\n",
    "\n",
    "- **Performance Metrics**: Continuously monitor recall, precision, and cost savings.\n",
    "- **Data Consistency**: Track input data distribution to detect any drift or anomalies.\n",
    "- **Logs and Alerts**: Set up logging and alerting for any unexpected behavior or performance drops.\n",
    "\n",
    "### 16. If the model is in production, how would you know when to retrain it?\n",
    "\n",
    "- **Performance Degradation**: Retrain the model if there is a significant drop in recall or cost savings.\n",
    "- **Periodic Retraining**: Schedule regular retraining intervals based on the rate of data changes.\n",
    "- **Data Drift Detection**: Monitor for changes in data distribution that could impact model performance."
   ],
   "id": "f4281eb01ca85afa"
  },
  {
   "metadata": {},
   "cell_type": "code",
   "outputs": [],
   "execution_count": null,
   "source": "",
   "id": "c708008385b2346e"
  }
 ],
 "metadata": {
  "kernelspec": {
   "display_name": "Python 3",
   "language": "python",
   "name": "python3"
  },
  "language_info": {
   "codemirror_mode": {
    "name": "ipython",
    "version": 2
   },
   "file_extension": ".py",
   "mimetype": "text/x-python",
   "name": "python",
   "nbconvert_exporter": "python",
   "pygments_lexer": "ipython2",
   "version": "2.7.6"
  }
 },
 "nbformat": 4,
 "nbformat_minor": 5
}
